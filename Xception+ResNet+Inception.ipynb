{
  "nbformat": 4,
  "nbformat_minor": 0,
  "metadata": {
    "colab": {
      "name": "Xception+ResNet+Inception.ipynb",
      "version": "0.3.2",
      "provenance": [],
      "collapsed_sections": []
    },
    "kernelspec": {
      "name": "python3",
      "display_name": "Python 3"
    }
  },
  "cells": [
    {
      "metadata": {
        "id": "nxMDs5dIoc8h",
        "colab_type": "code",
        "colab": {
          "base_uri": "https://localhost:8080/",
          "height": 34
        },
        "outputId": "4e70c3e5-e162-4be3-de95-298cfed668f9"
      },
      "cell_type": "code",
      "source": [
        "from keras.models import *\n",
        "from keras.layers import *\n",
        "from keras.applications import *\n",
        "from keras.preprocessing.image import *\n",
        "\n",
        "import h5py"
      ],
      "execution_count": 1,
      "outputs": [
        {
          "output_type": "stream",
          "text": [
            "Using TensorFlow backend.\n"
          ],
          "name": "stderr"
        }
      ]
    },
    {
      "metadata": {
        "id": "CQqBnf_GoowJ",
        "colab_type": "code",
        "colab": {}
      },
      "cell_type": "code",
      "source": [
        "def write_gap(MODEL, image_size, lambda_func=None):\n",
        "    width = image_size[0]\n",
        "    height = image_size[1]\n",
        "    input_tensor = Input((height, width, 3))\n",
        "    x = input_tensor\n",
        "    if lambda_func:\n",
        "        x = Lambda(lambda_func)(x)\n",
        "    base_model = MODEL(input_tensor=x, weights='imagenet', include_top=False)\n",
        "    model = Model(base_model.input, GlobalAveragePooling2D()(base_model.output))\n",
        "\n",
        "    gen = ImageDataGenerator()\n",
        "    train_generator = gen.flow_from_directory(\"train\", image_size, shuffle=False, \n",
        "                                              batch_size=16)\n",
        "    test_generator = gen.flow_from_directory(\"test\", image_size, shuffle=False, \n",
        "                                             batch_size=16, class_mode=None)\n",
        "\n",
        "    train = model.predict_generator(train_generator, train_generator.nb_sample)\n",
        "    test = model.predict_generator(test_generator, test_generator.nb_sample)\n",
        "    with h5py.File(\"gap_%s.h5\"%MODEL.func_name) as h:\n",
        "        h.create_dataset(\"train\", data=train)\n",
        "        h.create_dataset(\"test\", data=test)\n",
        "        h.create_dataset(\"label\", data=train_generator.classes)"
      ],
      "execution_count": 0,
      "outputs": []
    },
    {
      "metadata": {
        "id": "Q-OYhXbkovgu",
        "colab_type": "code",
        "colab": {}
      },
      "cell_type": "code",
      "source": [
        "write_gap(ResNet50, (224, 224))\n",
        "\n",
        "write_gapwrite_g (Xception, (299, 299), xception.preprocess_input)\n",
        "\n",
        "write_gap(InceptionV3, (299, 299), inception_v3.preprocess_input)"
      ],
      "execution_count": 0,
      "outputs": []
    },
    {
      "metadata": {
        "id": "Sl7I6YaOovj9",
        "colab_type": "code",
        "colab": {}
      },
      "cell_type": "code",
      "source": [
        "import h5py\n",
        "import numpy as np\n",
        "from sklearn.utils import shuffle\n",
        "np.random.seed(2017)\n",
        "\n",
        "X_train = []\n",
        "X_test = []\n",
        "\n",
        "for filename in [\"gap_ResNet50.h5\", \"gap_Xception.h5\", \"gap_InceptionV3.h5\"]:\n",
        "    with h5py.File(filename, 'r') as h:\n",
        "        X_train.append(np.array(h['train']))\n",
        "        X_test.append(np.array(h['test']))\n",
        "        y_train = np.array(h['label'])\n",
        "\n",
        "X_train = np.concatenate(X_train, axis=1)\n",
        "X_test = np.concatenate(X_test, axis=1)\n",
        "\n",
        "X_train, y_train = shuffle(X_train, y_train)"
      ],
      "execution_count": 0,
      "outputs": []
    },
    {
      "metadata": {
        "id": "bga_x3giovm1",
        "colab_type": "code",
        "colab": {}
      },
      "cell_type": "code",
      "source": [
        "\n",
        "fromfrom  keras.modelskeras.m  import *\n",
        "from keras.layers import *\n",
        "\n",
        "input_tensor = Input(X_train.shape[1:])\n",
        "x = input_tensor\n",
        "x = Dropout(0.5)(x)\n",
        "x = Dense(1, activation='sigmoid')(x)\n",
        "model = Model(input_tensor, x)\n",
        "\n",
        "model.compile(optimizer='adadelta',\n",
        "              loss='binary_crossentropy',\n",
        "              metrics=['accuracy'])"
      ],
      "execution_count": 0,
      "outputs": []
    },
    {
      "metadata": {
        "id": "tY8RXVbCpAVt",
        "colab_type": "code",
        "colab": {}
      },
      "cell_type": "code",
      "source": [
        "model.fit(X_train, y_train, batch_size=128, nb_epoch=8, validation_split=0.2)\n",
        "\n",
        "model.save('model.h5')"
      ],
      "execution_count": 0,
      "outputs": []
    },
    {
      "metadata": {
        "id": "n2eoGB72pAYj",
        "colab_type": "code",
        "colab": {}
      },
      "cell_type": "code",
      "source": [
        "y_pred = model.predict(X_test, verbose=1)"
      ],
      "execution_count": 0,
      "outputs": []
    }
  ]
}